{
  "nbformat": 4,
  "nbformat_minor": 0,
  "metadata": {
    "colab": {
      "name": "3dcnn.ipynb",
      "provenance": [],
      "collapsed_sections": [],
      "include_colab_link": true
    },
    "kernelspec": {
      "name": "python3",
      "display_name": "Python 3"
    },
    "language_info": {
      "name": "python"
    },
    "accelerator": "GPU"
  },
  "cells": [
    {
      "cell_type": "markdown",
      "metadata": {
        "id": "view-in-github",
        "colab_type": "text"
      },
      "source": [
        "<a href=\"https://colab.research.google.com/github/mahimaprakash/project/blob/main/3dcnn.ipynb\" target=\"_parent\"><img src=\"https://colab.research.google.com/assets/colab-badge.svg\" alt=\"Open In Colab\"/></a>"
      ]
    },
    {
      "cell_type": "code",
      "execution_count": 1,
      "metadata": {
        "colab": {
          "base_uri": "https://localhost:8080/"
        },
        "id": "q2zziYO7Ld3z",
        "outputId": "afa42178-b2b3-49bf-a7bf-ff140503cccc"
      },
      "outputs": [
        {
          "output_type": "stream",
          "name": "stdout",
          "text": [
            "Cloning into '3d-cnn-action-recognition'...\n",
            "remote: Enumerating objects: 41, done.\u001b[K\n",
            "remote: Total 41 (delta 0), reused 0 (delta 0), pack-reused 41\u001b[K\n",
            "Unpacking objects: 100% (41/41), done.\n"
          ]
        }
      ],
      "source": [
        "# !git clone https://github.com/kcct-fujimotolab/3DCNN.git\n",
        "!git clone https://github.com/dipakkr/3d-cnn-action-recognition.git"
      ]
    },
    {
      "cell_type": "code",
      "source": [
        "cd /content/3d-cnn-action-recognition/"
      ],
      "metadata": {
        "colab": {
          "base_uri": "https://localhost:8080/"
        },
        "id": "fG5BVlt-NBYY",
        "outputId": "974bebd8-a72d-4076-e321-6f54c6572823"
      },
      "execution_count": 2,
      "outputs": [
        {
          "output_type": "stream",
          "name": "stdout",
          "text": [
            "/content/3d-cnn-action-recognition\n"
          ]
        }
      ]
    },
    {
      "cell_type": "code",
      "source": [
        "!wget -nc --no-check-certificate https://www.crcv.ucf.edu/data/UCF50.rar\n",
        "!unrar x UCF50.rar -inul -y"
      ],
      "metadata": {
        "colab": {
          "base_uri": "https://localhost:8080/"
        },
        "id": "eouK8395LhHF",
        "outputId": "d3284c49-aab6-4c7c-fe1e-c67dc5676a86"
      },
      "execution_count": 3,
      "outputs": [
        {
          "output_type": "stream",
          "name": "stdout",
          "text": [
            "--2022-05-11 07:48:13--  https://www.crcv.ucf.edu/data/UCF50.rar\n",
            "Resolving www.crcv.ucf.edu (www.crcv.ucf.edu)... 132.170.214.127\n",
            "Connecting to www.crcv.ucf.edu (www.crcv.ucf.edu)|132.170.214.127|:443... connected.\n",
            "WARNING: cannot verify www.crcv.ucf.edu's certificate, issued by ‘CN=InCommon RSA Server CA,OU=InCommon,O=Internet2,L=Ann Arbor,ST=MI,C=US’:\n",
            "  Unable to locally verify the issuer's authority.\n",
            "HTTP request sent, awaiting response... 200 OK\n",
            "Length: 3233554570 (3.0G) [application/rar]\n",
            "Saving to: ‘UCF50.rar’\n",
            "\n",
            "UCF50.rar           100%[===================>]   3.01G  25.8MB/s    in 2m 2s   \n",
            "\n",
            "2022-05-11 07:50:16 (25.3 MB/s) - ‘UCF50.rar’ saved [3233554570/3233554570]\n",
            "\n"
          ]
        }
      ]
    },
    {
      "cell_type": "code",
      "source": [
        "!python 3dcnn.py --batch 32 --epoch 20 --videos UCF50/ --nclass 10 --output 3dcnnresult/ --color True --skip False --depth 15"
      ],
      "metadata": {
        "colab": {
          "base_uri": "https://localhost:8080/"
        },
        "id": "tBda8sIOND1p",
        "outputId": "d64a3513-f78b-48b3-92e1-46ed5e6809b3"
      },
      "execution_count": 32,
      "outputs": [
        {
          "output_type": "stream",
          "name": "stdout",
          "text": [
            "X_shape:(1264, 32, 32, 15, 3)\n",
            "Y_shape:(1264, 10)\n",
            "2022-05-11 08:38:00.359241: W tensorflow/core/common_runtime/gpu/gpu_bfc_allocator.cc:39] Overriding allow_growth setting because the TF_FORCE_GPU_ALLOW_GROWTH environment variable is set. Original config value was 0.\n",
            "Model: \"sequential\"\n",
            "_________________________________________________________________\n",
            " Layer (type)                Output Shape              Param #   \n",
            "=================================================================\n",
            " conv3d (Conv3D)             (None, 32, 32, 15, 32)    2624      \n",
            "                                                                 \n",
            " activation (Activation)     (None, 32, 32, 15, 32)    0         \n",
            "                                                                 \n",
            " conv3d_1 (Conv3D)           (None, 32, 32, 15, 32)    27680     \n",
            "                                                                 \n",
            " activation_1 (Activation)   (None, 32, 32, 15, 32)    0         \n",
            "                                                                 \n",
            " max_pooling3d (MaxPooling3D  (None, 11, 11, 5, 32)    0         \n",
            " )                                                               \n",
            "                                                                 \n",
            " dropout (Dropout)           (None, 11, 11, 5, 32)     0         \n",
            "                                                                 \n",
            " conv3d_2 (Conv3D)           (None, 11, 11, 5, 64)     55360     \n",
            "                                                                 \n",
            " activation_2 (Activation)   (None, 11, 11, 5, 64)     0         \n",
            "                                                                 \n",
            " conv3d_3 (Conv3D)           (None, 11, 11, 5, 64)     110656    \n",
            "                                                                 \n",
            " activation_3 (Activation)   (None, 11, 11, 5, 64)     0         \n",
            "                                                                 \n",
            " max_pooling3d_1 (MaxPooling  (None, 4, 4, 2, 64)      0         \n",
            " 3D)                                                             \n",
            "                                                                 \n",
            " dropout_1 (Dropout)         (None, 4, 4, 2, 64)       0         \n",
            "                                                                 \n",
            " flatten (Flatten)           (None, 2048)              0         \n",
            "                                                                 \n",
            " dense (Dense)               (None, 512)               1049088   \n",
            "                                                                 \n",
            " dropout_2 (Dropout)         (None, 512)               0         \n",
            "                                                                 \n",
            " dense_1 (Dense)             (None, 10)                5130      \n",
            "                                                                 \n",
            "=================================================================\n",
            "Total params: 1,250,538\n",
            "Trainable params: 1,250,538\n",
            "Non-trainable params: 0\n",
            "_________________________________________________________________\n",
            "Epoch 1/20\n",
            "32/32 [==============================] - 6s 79ms/step - loss: 2.5747 - accuracy: 0.0870 - val_loss: 2.2904 - val_accuracy: 0.1225\n",
            "Epoch 2/20\n",
            "32/32 [==============================] - 2s 58ms/step - loss: 2.4978 - accuracy: 0.1029 - val_loss: 2.3028 - val_accuracy: 0.1186\n",
            "Epoch 3/20\n",
            "32/32 [==============================] - 2s 58ms/step - loss: 2.4750 - accuracy: 0.0880 - val_loss: 2.3041 - val_accuracy: 0.1225\n",
            "Epoch 4/20\n",
            "32/32 [==============================] - 2s 58ms/step - loss: 2.3953 - accuracy: 0.1187 - val_loss: 2.2809 - val_accuracy: 0.1028\n",
            "Epoch 5/20\n",
            "32/32 [==============================] - 2s 59ms/step - loss: 2.3275 - accuracy: 0.1316 - val_loss: 2.1335 - val_accuracy: 0.2253\n",
            "Epoch 6/20\n",
            "32/32 [==============================] - 2s 59ms/step - loss: 2.2042 - accuracy: 0.1850 - val_loss: 2.1642 - val_accuracy: 0.2095\n",
            "Epoch 7/20\n",
            "32/32 [==============================] - 2s 59ms/step - loss: 2.0434 - accuracy: 0.2651 - val_loss: 1.9519 - val_accuracy: 0.3794\n",
            "Epoch 8/20\n",
            "32/32 [==============================] - 2s 59ms/step - loss: 1.9738 - accuracy: 0.2839 - val_loss: 1.8486 - val_accuracy: 0.3320\n",
            "Epoch 9/20\n",
            "32/32 [==============================] - 2s 59ms/step - loss: 1.7611 - accuracy: 0.3838 - val_loss: 1.7729 - val_accuracy: 0.3518\n",
            "Epoch 10/20\n",
            "32/32 [==============================] - 2s 59ms/step - loss: 1.6411 - accuracy: 0.4144 - val_loss: 1.6639 - val_accuracy: 0.4071\n",
            "Epoch 11/20\n",
            "32/32 [==============================] - 2s 59ms/step - loss: 1.5434 - accuracy: 0.4679 - val_loss: 1.5631 - val_accuracy: 0.4545\n",
            "Epoch 12/20\n",
            "32/32 [==============================] - 2s 60ms/step - loss: 1.4321 - accuracy: 0.4896 - val_loss: 1.4921 - val_accuracy: 0.4743\n",
            "Epoch 13/20\n",
            "32/32 [==============================] - 2s 60ms/step - loss: 1.3387 - accuracy: 0.5351 - val_loss: 1.4730 - val_accuracy: 0.4901\n",
            "Epoch 14/20\n",
            "32/32 [==============================] - 2s 60ms/step - loss: 1.1782 - accuracy: 0.6014 - val_loss: 1.2800 - val_accuracy: 0.5534\n",
            "Epoch 15/20\n",
            "32/32 [==============================] - 2s 65ms/step - loss: 1.0518 - accuracy: 0.6301 - val_loss: 1.1797 - val_accuracy: 0.6008\n",
            "Epoch 16/20\n",
            "32/32 [==============================] - 2s 60ms/step - loss: 0.9422 - accuracy: 0.6756 - val_loss: 1.1776 - val_accuracy: 0.5968\n",
            "Epoch 17/20\n",
            "32/32 [==============================] - 2s 60ms/step - loss: 0.9239 - accuracy: 0.6716 - val_loss: 1.1989 - val_accuracy: 0.6206\n",
            "Epoch 18/20\n",
            "32/32 [==============================] - 2s 61ms/step - loss: 0.8643 - accuracy: 0.7151 - val_loss: 1.0366 - val_accuracy: 0.6482\n",
            "Epoch 19/20\n",
            "32/32 [==============================] - 2s 60ms/step - loss: 0.7729 - accuracy: 0.7478 - val_loss: 0.9739 - val_accuracy: 0.6640\n",
            "Epoch 20/20\n",
            "32/32 [==============================] - 2s 61ms/step - loss: 0.6744 - accuracy: 0.7745 - val_loss: 0.9688 - val_accuracy: 0.6877\n",
            "Test loss: 0.9687702059745789\n",
            "Test accuracy: 0.687747061252594\n"
          ]
        }
      ]
    },
    {
      "cell_type": "code",
      "source": [
        "# !pip install -U protobuf==3.8.0\n"
      ],
      "metadata": {
        "id": "gJW8bBQoCCWo"
      },
      "execution_count": 16,
      "outputs": []
    },
    {
      "cell_type": "code",
      "source": [
        "!python visualize_input.py -m result_cnn_10class/ucf101cnnmodel.json -w result_cnn_10class/ucf101cnnmodel.hd5 -n 'dense_2' -i 0 --iter 100\n"
      ],
      "metadata": {
        "id": "vbFMhyG2AImn",
        "colab": {
          "base_uri": "https://localhost:8080/"
        },
        "outputId": "ae74ace8-9b8c-4115-aecb-dca6941ea72e"
      },
      "execution_count": 15,
      "outputs": [
        {
          "output_type": "stream",
          "name": "stdout",
          "text": [
            "Traceback (most recent call last):\n",
            "  File \"visualize_input.py\", line 149, in <module>\n",
            "    main()\n",
            "  File \"visualize_input.py\", line 138, in main\n",
            "    with open(args.model, 'w') as model_json:\n",
            "FileNotFoundError: [Errno 2] No such file or directory: 'result_cnn_10class/ucf101cnnmodel.json'\n"
          ]
        }
      ]
    },
    {
      "cell_type": "code",
      "source": [
        "# !python 3dcnn-my-model.py --batch 32 --epoch 10 --videos UCF50/ --nclass 10 --output 3dcnnresult/ --color True --skip False --depth 20"
      ],
      "metadata": {
        "id": "Ekxj-ufXLFDE"
      },
      "execution_count": 30,
      "outputs": []
    },
    {
      "cell_type": "code",
      "source": [
        "cd 3DCNN-v2.0/"
      ],
      "metadata": {
        "colab": {
          "base_uri": "https://localhost:8080/"
        },
        "id": "Lfm6LPi2MR4Z",
        "outputId": "a30abe40-4899-4089-d67b-c2fae933c11d"
      },
      "execution_count": 34,
      "outputs": [
        {
          "output_type": "stream",
          "name": "stdout",
          "text": [
            "/content/3d-cnn-action-recognition/3DCNN-v2.0\n"
          ]
        }
      ]
    },
    {
      "cell_type": "code",
      "source": [
        "!python 3dcnn.py --batch 32 --epoch 20 --videos /content/3d-cnn-action-recognition/UCF50/ --nclass 10 --output 3dcnnresult/ --color True --skip False --depth 15"
      ],
      "metadata": {
        "colab": {
          "base_uri": "https://localhost:8080/"
        },
        "id": "8aWFS0cnRuns",
        "outputId": "eac3ad4d-97b7-4d01-9403-7ad0561c43b0"
      },
      "execution_count": 38,
      "outputs": [
        {
          "output_type": "stream",
          "name": "stdout",
          "text": [
            "\r  0% 0/50 [00:00<?, ?it/s]Traceback (most recent call last):\n",
            "  File \"3dcnn.py\", line 318, in <module>\n",
            "    main()\n",
            "  File \"3dcnn.py\", line 180, in main\n",
            "    args.output, args.color, args.skip)\n",
            "  File \"3dcnn.py\", line 98, in loaddata\n",
            "    X.append(vid3d.video3d(v_file_path, color=color, skip=skip))\n",
            "  File \"/content/3d-cnn-action-recognition/3DCNN-v2.0/videoto3d.py\", line 17, in video3d\n",
            "    for image_files in os.listdir(filename):\n",
            "NotADirectoryError: [Errno 20] Not a directory: '/content/3d-cnn-action-recognition/UCF50/Nunchucks/v_Nunchucks_g03_c06.avi'\n",
            "\r  2% 1/50 [00:00<00:04,  9.95it/s]\n"
          ]
        }
      ]
    },
    {
      "cell_type": "code",
      "source": [
        ""
      ],
      "metadata": {
        "id": "WPl3jazrUgco"
      },
      "execution_count": null,
      "outputs": []
    }
  ]
}